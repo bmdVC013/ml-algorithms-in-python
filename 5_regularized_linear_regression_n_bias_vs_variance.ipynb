{
 "cells": [
  {
   "cell_type": "markdown",
   "metadata": {},
   "source": [
    "# Day 5: Regularized Linear Regression and Bias v.s. Variance"
   ]
  },
  {
   "cell_type": "markdown",
   "metadata": {},
   "source": [
    "In this exercise, you will implement regularized linear regression and use it to study models with different bias-variance properties."
   ]
  },
  {
   "cell_type": "code",
   "execution_count": 1,
   "metadata": {},
   "outputs": [],
   "source": [
    "import numpy as np\n",
    "import matplotlib.pyplot as plt\n",
    "%matplotlib inline\n",
    "plt.rcParams['figure.figsize'] = (8, 5)\n",
    "import scipy.io # Used to load the OCTAVE *.mat files\n",
    "import scipy.optimize # To call fmin_cf to train the linear regression\n",
    "import warnings\n",
    "warnings.filterwarnings('ignore')"
   ]
  },
  {
   "cell_type": "markdown",
   "metadata": {},
   "source": [
    "## 1 Regularized Linear Regression"
   ]
  },
  {
   "cell_type": "markdown",
   "metadata": {},
   "source": [
    "In the first half of the exercise, you will implement regularized linear regression to predict the amount of water flowing out of a dam using the change of water level in a reservoir. In the next half, you will go through some diagnostics of debugging learning algorithms and examine the effects of bias v.s. variance."
   ]
  },
  {
   "cell_type": "markdown",
   "metadata": {},
   "source": [
    "### 1.1 Visualizing the dataset"
   ]
  },
  {
   "cell_type": "code",
   "execution_count": 2,
   "metadata": {},
   "outputs": [
    {
     "name": "stdout",
     "output_type": "stream",
     "text": [
      "Shape of X, y: (12, 2) (12, 1)\n",
      "Shape of X_val, y_val: (21, 2) (21, 1)\n",
      "Shape of X_test, y_test: (21, 2) (21, 1)\n"
     ]
    }
   ],
   "source": [
    "data = scipy.io.loadmat('data/ex5data1.mat')\n",
    "X = np.c_[np.ones((data['X'].shape[0], 1)), data['X']]\n",
    "y = np.c_[data['y']]\n",
    "X_val = np.c_[np.ones((data['Xval'].shape[0], 1)), data['Xval']]\n",
    "y_val = np.c_[data['yval']]\n",
    "X_test = np.c_[np.ones((data['Xtest'].shape[0], 1)), data['Xtest']]\n",
    "y_test = np.c_[data['ytest']]\n",
    "print('Shape of X, y:', X.shape, y.shape)\n",
    "print('Shape of X_val, y_val:', X_test.shape, y_test.shape)\n",
    "print('Shape of X_test, y_test:', X_test.shape, y_test.shape)"
   ]
  },
  {
   "cell_type": "code",
   "execution_count": 3,
   "metadata": {},
   "outputs": [],
   "source": [
    "def plotData():\n",
    "    plt.plot(X[:, 1], y, 'rx')\n",
    "    plt.xlabel('Change in water level (x)')\n",
    "    plt.ylabel('Water flowing out of the dam (y)')"
   ]
  },
  {
   "cell_type": "code",
   "execution_count": 4,
   "metadata": {},
   "outputs": [
    {
     "data": {
      "image/png": "[encoded data removed]",
      "text/plain": [
       "<Figure size 576x360 with 1 Axes>"
      ]
     },
     "metadata": {},
     "output_type": "display_data"
    }
   ],
   "source": [
    "plotData()"
   ]
  },
  {
   "cell_type": "markdown",
   "metadata": {},
   "source": [
    "### 1.2 Regularized linear regression cost function"
   ]
  },
  {
   "cell_type": "markdown",
   "metadata": {},
   "source": [
    "Recall that regularized linear regression has the following cost function:\n",
    "\n",
    "$$J(\\theta) = \\frac{1}{2m} \\left(\\sum_{i=1}^{m}(h_\\theta(x^{(i)}) - y^{(i)})^2\\right) + \\frac{\\lambda}{2m} \\left(\\sum_{j=1}^n\\theta_j^2\\right)$$\n",
    "\n",
    "where $\\lambda$ is a regularization parameter which controls the degree of regularization (thus, help preventing overfitting)."
   ]
  },
  {
   "cell_type": "code",
   "execution_count": 5,
   "metadata": {},
   "outputs": [],
   "source": [
    "def h(theta,X): #Linear hypothesis function\n",
    "    return np.dot(X,theta)\n",
    "\n",
    "def computeCost(theta, X, y,lambd=0.): #Cost function\n",
    "    \"\"\"\n",
    "    theta_start is an n- dimensional vector of initial theta guess\n",
    "    X is matrix with n- columns and m- rows\n",
    "    y is a matrix with m- rows and 1 column\n",
    "    \"\"\"\n",
    "    m = X.shape[0]\n",
    "    myh = h(theta,X).reshape((m,1))\n",
    "    cost = float((1./(2*m)) * np.dot((myh-y).T,(myh-y)))\n",
    "    reg = (float(lambd)/(2*m)) * float(theta[1:].T.dot(theta[1:]))\n",
    "    return cost + reg"
   ]
  },
  {
   "cell_type": "code",
   "execution_count": 6,
   "metadata": {},
   "outputs": [
    {
     "name": "stdout",
     "output_type": "stream",
     "text": [
      "303.9931922202643\n"
     ]
    }
   ],
   "source": [
    "# Using theta initialized at [1;1] and lambda=1, you should expect\n",
    "# to see an output of 303.993\n",
    "theta = np.array([[1.], [1.]])\n",
    "print(computeCost(theta, X, y, lambd=1.))"
   ]
  },
  {
   "cell_type": "markdown",
   "metadata": {},
   "source": [
    "### 1.3 Regularized linear regression gradient"
   ]
  },
  {
   "cell_type": "markdown",
   "metadata": {},
   "source": [
    "Correspondingly, the partial derivative of regularized linear regression’s cost for $\\theta_j$ is defined as\n",
    "$$\\frac{\\partial J(\\theta)}{\\partial\\theta_0} = \\frac{1}{m}\\sum_{i=1}^m (h_{\\theta}(x^{(i)}) - y^{(i)}) x_j^{(i)} \\hspace{10mm} for \\hspace{3mm} j = 0$$\n",
    "$$\\frac{\\partial J(\\theta)}{\\partial\\theta_j} = \\left(\\frac{1}{m}\\sum_{i=1}^m (h_{\\theta}(x^{(i)}) - y^{(i)}) x_j^{(i)} \\right) + \\frac{\\lambda}{m} \\theta_j \\hspace{10mm} for \\hspace{3mm} j \\geq 1$$"
   ]
  },
  {
   "cell_type": "code",
   "execution_count": 7,
   "metadata": {},
   "outputs": [],
   "source": [
    "def computeGradient(theta, X, y, lambd=0.):\n",
    "    '''Implement compute the linear gression gradient.\n",
    "    Parameters:\n",
    "        theta: parameters of the model, which is an n-vector\n",
    "        X: training set, which is matrix with m-rows and n-columns \n",
    "        y: target set, which is a matrix with m-rows and 1-columns\n",
    "        lambd: regularization parameter, default = 0'''\n",
    "    theta = theta.reshape((theta.shape[0],1))\n",
    "    m = X.shape[0]\n",
    "    grad = (1./float(m))* X.T.dot(h(theta,X)-y)\n",
    "    reg = (float(lambd)/m)*theta\n",
    "    reg[0] = 0 #don't regulate bias term\n",
    "    reg.reshape((grad.shape[0],1))\n",
    "    return grad + reg\n",
    "\n",
    "# This is for the minimization routine that wants everything flattened\n",
    "def computeGradientFlattened(theta, X, y, lambd=0.):\n",
    "    return computeGradient(theta, X, y, lambd=0.).flatten()"
   ]
  },
  {
   "cell_type": "code",
   "execution_count": 8,
   "metadata": {},
   "outputs": [
    {
     "name": "stdout",
     "output_type": "stream",
     "text": [
      "[[ -15.30301567]\n",
      " [ 598.25074417]]\n"
     ]
    }
   ],
   "source": [
    "# Using theta initialized at [1; 1] you should expect to see a\n",
    "# gradient of [-15.303016; 598.250744] (with lambda=1)\n",
    "theta = np.array([[1.], [1.]])\n",
    "print(computeGradient(theta, X, y, 1.))"
   ]
  },
  {
   "cell_type": "markdown",
   "metadata": {},
   "source": [
    "### 1.4 Fitting linear regression"
   ]
  },
  {
   "cell_type": "code",
   "execution_count": 9,
   "metadata": {},
   "outputs": [],
   "source": [
    "def optimizeTheta(theta_initial, X, y, lambd=0., print_output=True):\n",
    "    fit_theta = scipy.optimize.fmin_cg(computeCost, x0=theta_initial,\n",
    "                                       fprime=computeGradientFlattened,\n",
    "                                       args=(X, y, lambd),\n",
    "                                       disp=print_output,\n",
    "                                       epsilon=1.49e-12,\n",
    "                                       maxiter=1000)\n",
    "    fit_theta = fit_theta.reshape((theta_initial.shape[0], 1))\n",
    "    return fit_theta"
   ]
  },
  {
   "cell_type": "code",
   "execution_count": 10,
   "metadata": {},
   "outputs": [
    {
     "name": "stdout",
     "output_type": "stream",
     "text": [
      "Optimization terminated successfully.\n",
      "         Current function value: 22.373906\n",
      "         Iterations: 18\n",
      "         Function evaluations: 28\n",
      "         Gradient evaluations: 28\n"
     ]
    }
   ],
   "source": [
    "theta_initial = np.array([[1.], [1.]])\n",
    "fit_theta = optimizeTheta(theta_initial, X, y, 0.)"
   ]
  },
  {
   "cell_type": "code",
   "execution_count": 11,
   "metadata": {},
   "outputs": [
    {
     "data": {
      "image/png": "[encoded data removed]",
      "text/plain": [
       "<Figure size 576x360 with 1 Axes>"
      ]
     },
     "metadata": {},
     "output_type": "display_data"
    }
   ],
   "source": [
    "plotData()\n",
    "plt.plot(X[:, 1], np.dot(X, fit_theta).flatten());"
   ]
  },
  {
   "cell_type": "markdown",
   "metadata": {},
   "source": [
    "## 2 Bias-variance"
   ]
  },
  {
   "cell_type": "markdown",
   "metadata": {},
   "source": [
    "An important concept in machine learning is the bias-variance tradeoff. Models with high bias are not complex enough for the data and tend to underfit, while models with high variance overfit to the training data.\n",
    "\n",
    "In this part of the exercise, you will plot training and test errors on a learning curve to diagnose bias-variance problems."
   ]
  },
  {
   "cell_type": "markdown",
   "metadata": {},
   "source": [
    "### 2.1 Learning curves"
   ]
  },
  {
   "cell_type": "markdown",
   "metadata": {},
   "source": [
    "You will now implement code to generate the learning curves that will be useful in debugging learning algorithms. Recall that a learning curve plots training and cross validation error as a function of training set size. "
   ]
  },
  {
   "cell_type": "code",
   "execution_count": 12,
   "metadata": {},
   "outputs": [],
   "source": [
    "def plotLearningCurve():\n",
    "    \"\"\"\n",
    "    Loop over first training point, then first 2 training points, then first 3 ...\n",
    "    and use each training-set-subset to find trained parameters.\n",
    "    With those parameters, compute the cost on that subset (Jtrain)\n",
    "    remembering that for Jtrain, lambda = 0 (even if you are using regularization).\n",
    "    Then, use the trained parameters to compute Jval on the entire validation set\n",
    "    again forcing lambda = 0 even if using regularization.\n",
    "    Store the computed errors, error_train and error_val and plot them.\n",
    "    \"\"\"\n",
    "    initial_theta = np.array([[1.], [1.]])\n",
    "    m, error_train, error_val = [], [], []\n",
    "    for x in range(1, 13):\n",
    "        train_subset = X[:x, :]\n",
    "        y_subset = y[:x]\n",
    "        m.append(y_subset.shape[0])\n",
    "        fit_theta = optimizeTheta(initial_theta, train_subset, y_subset, lambd=0., print_output=False)\n",
    "        error_train.append(computeCost(fit_theta, train_subset, y_subset, lambd=0.))\n",
    "        error_val.append(computeCost(fit_theta, X_val, y_val, lambd=0.))\n",
    "\n",
    "    plt.plot(m, error_train, label='Train', c='b')\n",
    "    plt.plot(m, error_val, label='Cross Validation', c='g')\n",
    "    plt.legend(loc=1)\n",
    "    plt.title('Learning curve for linear regression')\n",
    "    plt.xlabel('Number of training examples')\n",
    "    plt.ylabel('Error')"
   ]
  },
  {
   "cell_type": "code",
   "execution_count": 13,
   "metadata": {},
   "outputs": [
    {
     "data": {
      "image/png": "[encoded data removed]",
      "text/plain": [
       "<Figure size 576x360 with 1 Axes>"
      ]
     },
     "metadata": {},
     "output_type": "display_data"
    }
   ],
   "source": [
    "plotLearningCurve()"
   ]
  },
  {
   "cell_type": "markdown",
   "metadata": {},
   "source": [
    "**WRONG !!**"
   ]
  },
  {
   "cell_type": "code",
   "execution_count": null,
   "metadata": {},
   "outputs": [],
   "source": []
  }
 ],
 "metadata": {
  "kernelspec": {
   "display_name": "Python 3",
   "language": "python",
   "name": "python3"
  },
  "language_info": {
   "codemirror_mode": {
    "name": "ipython",
    "version": 3
   },
   "file_extension": ".py",
   "mimetype": "text/x-python",
   "name": "python",
   "nbconvert_exporter": "python",
   "pygments_lexer": "ipython3",
   "version": "3.5.3"
  }
 },
 "nbformat": 4,
 "nbformat_minor": 2
}
