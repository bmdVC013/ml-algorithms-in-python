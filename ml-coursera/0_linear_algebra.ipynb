{
 "cells": [
  {
   "cell_type": "markdown",
   "metadata": {},
   "source": [
    "# Day 0: Linear Algebra"
   ]
  },
  {
   "cell_type": "code",
   "execution_count": 1,
   "metadata": {},
   "outputs": [],
   "source": [
    "import numpy as np"
   ]
  },
  {
   "cell_type": "markdown",
   "metadata": {},
   "source": [
    "Vector Operations"
   ]
  },
  {
   "cell_type": "code",
   "execution_count": 2,
   "metadata": {},
   "outputs": [
    {
     "name": "stdout",
     "output_type": "stream",
     "text": [
      "Vector a:  [1 2 3]\n",
      "Vector b:  [2 3 4]\n",
      "a+b= [3 5 7]\n",
      "a-b= [-1 -1 -1]\n",
      "2*a= [2 4 6]\n",
      "Norm of a= 3.74165738677\n",
      "a*b= [ 2  6 12]\n",
      "Dot product of (a,b)= 20\n",
      "Cross product of (a,b)= [-1  2 -1]\n"
     ]
    }
   ],
   "source": [
    "a = np.array([1, 2, 3]) # 3-vector\n",
    "b = np.array([2, 3, 4]) # 3-vector\n",
    "print('Vector a: ', a)\n",
    "print('Vector b: ', b)\n",
    "print('a+b=', a+b) # addition\n",
    "print('a-b=', a-b) # subtraction\n",
    "print('2*a=', 2*a) # scaling\n",
    "print('Norm of a=', np.linalg.norm(a)) # norm (length)\n",
    "print('a*b=', a*b) # multiple\n",
    "print('Dot product of (a,b)=', np.dot(a,b)) # dot product\n",
    "print('Cross product of (a,b)=', np.cross(a,b)) # cross product"
   ]
  },
  {
   "cell_type": "markdown",
   "metadata": {},
   "source": [
    "Matrix Operations"
   ]
  },
  {
   "cell_type": "code",
   "execution_count": 3,
   "metadata": {
    "scrolled": true
   },
   "outputs": [
    {
     "name": "stdout",
     "output_type": "stream",
     "text": [
      "Matrix A: \n",
      " [[1 2 3]\n",
      " [1 1 1]]\n",
      "Matrix B: \n",
      " [[2 3 4]\n",
      " [2 2 2]]\n",
      "A+B= \n",
      " [[3 5 7]\n",
      " [3 3 3]]\n",
      "A-B= \n",
      " [[-1 -1 -1]\n",
      " [-1 -1 -1]]\n",
      "2*A= \n",
      " [[2 4 6]\n",
      " [2 2 2]]\n",
      "Determinant of C: 1.7763568394e-15\n",
      "A*B= \n",
      " [[ 2  6 12]\n",
      " [ 2  2  2]]\n",
      "Matrix product of (A,C)= \n",
      " [[26 32 38]\n",
      " [12 15 18]]\n"
     ]
    }
   ],
   "source": [
    "A = np.array([[1, 2 ,3], \n",
    "              [1, 1 ,1]]) # 2x3 matrix\n",
    "B = np.array([[2, 3, 4],\n",
    "              [2, 2, 2]]) # 2x3 matrix\n",
    "C = np.array([[3, 4, 5],\n",
    "              [4, 5, 6],\n",
    "              [5, 6, 7]]) # 3x4 matrix\n",
    "print('Matrix A: \\n', A)\n",
    "print('Matrix B: \\n', B)\n",
    "print('A+B= \\n', A+B) # addition\n",
    "print('A-B= \\n', A-B) # subtraction\n",
    "print('2*A= \\n', 2*A) # scaling\n",
    "print('Determinant of C:', np.linalg.det(C)) # determinant\n",
    "print('A*B= \\n', A*B) # multiple\n",
    "print('Matrix product of (A,C)= \\n', np.dot(A,C)) # dot product"
   ]
  },
  {
   "cell_type": "markdown",
   "metadata": {},
   "source": [
    "**Note**:\n",
    "+ *AB$\\neq$BA*\n",
    "+ *A(BC)=(AB)C*"
   ]
  },
  {
   "cell_type": "markdown",
   "metadata": {},
   "source": [
    "Matrix-Vector product"
   ]
  },
  {
   "cell_type": "code",
   "execution_count": 4,
   "metadata": {},
   "outputs": [
    {
     "name": "stdout",
     "output_type": "stream",
     "text": [
      "[16  6  8]\n",
      "[16  6  8]\n",
      "[16  6  8]\n",
      "[16  6  8]\n"
     ]
    }
   ],
   "source": [
    "a = np.array([[5, 1 ,3], \n",
    "              [1, 1 ,1], \n",
    "              [1, 2 ,1]]) # 3x3 matrix\n",
    "b = np.array([1, 2, 3]) # 3-vector\n",
    "print(a.dot(b))\n",
    "print(np.dot(a,b))\n",
    "print(np.matmul(a,b))\n",
    "print(a @ b)"
   ]
  },
  {
   "cell_type": "markdown",
   "metadata": {},
   "source": [
    "Identity Matrix, One matrix, Zero matrix"
   ]
  },
  {
   "cell_type": "code",
   "execution_count": 5,
   "metadata": {},
   "outputs": [
    {
     "name": "stdout",
     "output_type": "stream",
     "text": [
      "Identity matrix A:\n",
      " [[ 1.  0.]\n",
      " [ 0.  1.]]\n",
      "One matrix B:\n",
      " [ 1.  1.]\n",
      "Zero matrix C:\n",
      " [ 0.  0.]\n",
      "One 4x2 matrix D:\n",
      " [[ 1.  1.]\n",
      " [ 1.  1.]\n",
      " [ 1.  1.]\n",
      " [ 1.  1.]]\n"
     ]
    }
   ],
   "source": [
    "A = np.eye(2)   # indentity matrix\n",
    "B = np.ones(2)  # One matrix\n",
    "C = np.zeros(2) # Zero matrix\n",
    "print('Identity matrix A:\\n', A)\n",
    "print('One matrix B:\\n',B)\n",
    "print('Zero matrix C:\\n',C)\n",
    "D = np.ones((4,2))\n",
    "print('One 4x2 matrix D:\\n', D)"
   ]
  },
  {
   "cell_type": "markdown",
   "metadata": {},
   "source": [
    "Inverse and transpose of matrix A"
   ]
  },
  {
   "cell_type": "code",
   "execution_count": 6,
   "metadata": {},
   "outputs": [
    {
     "name": "stdout",
     "output_type": "stream",
     "text": [
      "Matrix A:\n",
      " [[1 2 0]\n",
      " [0 5 6]\n",
      " [7 0 9]]\n",
      "Inverse of A:\n",
      " [[ 0.34883721 -0.13953488  0.09302326]\n",
      " [ 0.3255814   0.06976744 -0.04651163]\n",
      " [-0.27131783  0.10852713  0.03875969]]\n",
      "A * inv(A)=\n",
      " [[  1.00000000e+00   0.00000000e+00   2.22044605e-16]\n",
      " [  0.00000000e+00   1.00000000e+00   0.00000000e+00]\n",
      " [ -5.55111512e-17   0.00000000e+00   1.00000000e+00]]\n",
      "Transpose of A: [[1 0 7]\n",
      " [2 5 0]\n",
      " [0 6 9]]\n"
     ]
    }
   ],
   "source": [
    "A = np.array([[1,2,0],\n",
    "              [0,5,6],\n",
    "              [7,0,9]]) \n",
    "A_inv = np.linalg.inv(A) # inverse of matrix A (if matrix is singular)\n",
    "I = np.dot(A_inv, A)\n",
    "A_t = np.transpose(A) # transpose of matrix A\n",
    "print('Matrix A:\\n', A)\n",
    "print('Inverse of A:\\n', A_inv)\n",
    "print('A * inv(A)=\\n',I)\n",
    "print('Transpose of A:', A_t)"
   ]
  },
  {
   "cell_type": "markdown",
   "metadata": {},
   "source": [
    "Row space, column space, and rank of a matrix"
   ]
  },
  {
   "cell_type": "code",
   "execution_count": 7,
   "metadata": {},
   "outputs": [
    {
     "name": "stdout",
     "output_type": "stream",
     "text": [
      "Row space of A:\n",
      " [1 2 0] [0 5 6] [7 0 9]\n",
      "Column space of A:\n",
      " [1 0 7] [2 5 0] [0 6 9]\n",
      "Rank of A:\n",
      " 3\n"
     ]
    }
   ],
   "source": [
    "A = np.array([[1,2,0],\n",
    "              [0,5,6],\n",
    "              [7,0,9]]) # 3x3 matrix\n",
    "print('Row space of A:\\n', A[0,:], A[1,:], A[2,:])\n",
    "print('Column space of A:\\n', A[:,0], A[:,1], A[:,2])\n",
    "print('Rank of A:\\n', np.linalg.matrix_rank(A))"
   ]
  },
  {
   "cell_type": "markdown",
   "metadata": {},
   "source": [
    "Eigenvalues and eigenvectors"
   ]
  },
  {
   "cell_type": "code",
   "execution_count": 8,
   "metadata": {},
   "outputs": [
    {
     "name": "stdout",
     "output_type": "stream",
     "text": [
      "Matrix A:\n",
      " [[1 0 0]\n",
      " [0 2 0]\n",
      " [0 0 3]]\n",
      "Eigenvalues and eigenvectors of A:\n",
      " [ 1.  2.  3.] , [[ 1.  0.  0.]\n",
      " [ 0.  1.  0.]\n",
      " [ 0.  0.  1.]]\n"
     ]
    }
   ],
   "source": [
    "A = np.diag((1, 2, 3)) # 3x3 matrix\n",
    "print('Matrix A:\\n', A)\n",
    "w, v = np.linalg.eig(A)\n",
    "print('Eigenvalues and eigenvectors of A:\\n', w, ',', v)"
   ]
  },
  {
   "cell_type": "code",
   "execution_count": null,
   "metadata": {},
   "outputs": [],
   "source": []
  }
 ],
 "metadata": {
  "kernelspec": {
   "display_name": "Python 3",
   "language": "python",
   "name": "python3"
  },
  "language_info": {
   "codemirror_mode": {
    "name": "ipython",
    "version": 3
   },
   "file_extension": ".py",
   "mimetype": "text/x-python",
   "name": "python",
   "nbconvert_exporter": "python",
   "pygments_lexer": "ipython3",
   "version": "3.5.3"
  }
 },
 "nbformat": 4,
 "nbformat_minor": 2
}
